{
  "cells": [
    {
      "cell_type": "markdown",
      "metadata": {
        "id": "view-in-github",
        "colab_type": "text"
      },
      "source": [
        "<a href=\"https://colab.research.google.com/github/AndreisMarco/02456_G128_bird_classification/blob/main/scripts/06_Audio_classification_with_CNN.ipynb\" target=\"_parent\"><img src=\"https://colab.research.google.com/assets/colab-badge.svg\" alt=\"Open In Colab\"/></a>"
      ]
    },
    {
      "cell_type": "markdown",
      "metadata": {
        "id": "iWFh3ZDd2xfs"
      },
      "source": [
        "- check: https://towardsdatascience.com/cnns-for-audio-classification-6244954665ab"
      ]
    },
    {
      "cell_type": "markdown",
      "metadata": {
        "id": "d9f-FLXXbpSd"
      },
      "source": [
        "# 1. Set up environment"
      ]
    },
    {
      "cell_type": "code",
      "execution_count": 1,
      "metadata": {
        "id": "LAJw6egX4rhI"
      },
      "outputs": [],
      "source": [
        "!pip install datasets evaluate --quiet"
      ]
    },
    {
      "cell_type": "markdown",
      "metadata": {
        "id": "VYDdhe_hbtkN"
      },
      "source": [
        "## 1.1 Import libraries"
      ]
    },
    {
      "cell_type": "code",
      "execution_count": 2,
      "metadata": {
        "id": "8a0qjOlnb-wL"
      },
      "outputs": [],
      "source": [
        "# setting up Drive and path for data loading and saving\n",
        "import os\n",
        "from google.colab import drive\n",
        "\n",
        "# for data processing\n",
        "import pandas as pd\n",
        "from datasets import Dataset\n",
        "from transformers import AutoFeatureExtractor\n",
        "\n",
        "# for model training and evaluation\n",
        "import torch\n",
        "from torch import nn\n",
        "from tqdm import tqdm\n",
        "import numpy as np\n",
        "\n",
        "# for visualisation\n",
        "import seaborn as sns\n",
        "import matplotlib.pyplot as plt"
      ]
    },
    {
      "cell_type": "code",
      "execution_count": 3,
      "metadata": {
        "id": "0W60ydnPzyuK",
        "colab": {
          "base_uri": "https://localhost:8080/"
        },
        "outputId": "7c833076-3a44-424e-8325-901422a2be7a"
      },
      "outputs": [
        {
          "output_type": "stream",
          "name": "stdout",
          "text": [
            "Using device: cuda\n"
          ]
        }
      ],
      "source": [
        "device = torch.device(\"cuda\" if torch.cuda.is_available() else \"cpu\")\n",
        "print(f\"Using device: {device}\")"
      ]
    },
    {
      "cell_type": "markdown",
      "metadata": {
        "id": "CIjtS5eHbv2_"
      },
      "source": [
        "## 1.2 Load data"
      ]
    },
    {
      "cell_type": "code",
      "execution_count": 4,
      "metadata": {
        "id": "HxnBNBYLhCcz",
        "colab": {
          "base_uri": "https://localhost:8080/"
        },
        "outputId": "e1a6663c-8dd6-484f-ac6c-95a508aa0540"
      },
      "outputs": [
        {
          "output_type": "stream",
          "name": "stdout",
          "text": [
            "Drive already mounted at /content/drive; to attempt to forcibly remount, call drive.mount(\"/content/drive\", force_remount=True).\n"
          ]
        }
      ],
      "source": [
        "# mount Drive and set path\n",
        "drive.mount('/content/drive')\n",
        "path = '/content/drive/MyDrive/Deep Learning - DTU 2024/'\n",
        "os.chdir(path)"
      ]
    },
    {
      "cell_type": "code",
      "execution_count": 5,
      "metadata": {
        "id": "rlmgqFc1fNwM"
      },
      "outputs": [],
      "source": [
        "# load (one batch of) preprocessed data\n",
        "batch_path = 'batch_1'\n",
        "dataset = Dataset.load_from_disk(batch_path).remove_columns('__index_level_0__')"
      ]
    },
    {
      "cell_type": "code",
      "execution_count": 6,
      "metadata": {
        "colab": {
          "base_uri": "https://localhost:8080/"
        },
        "id": "ujUq-Thh08fG",
        "outputId": "0512187a-4756-4429-f897-5b76434fd146"
      },
      "outputs": [
        {
          "output_type": "execute_result",
          "data": {
            "text/plain": [
              "Dataset({\n",
              "    features: ['audio', 'label'],\n",
              "    num_rows: 1244\n",
              "})"
            ]
          },
          "metadata": {},
          "execution_count": 6
        }
      ],
      "source": [
        "# inspect structure\n",
        "dataset"
      ]
    },
    {
      "cell_type": "code",
      "execution_count": 7,
      "metadata": {
        "colab": {
          "base_uri": "https://localhost:8080/"
        },
        "id": "QMGn4r7zCo8F",
        "outputId": "19466b7d-3801-4a4d-aabc-a66c3c654a42"
      },
      "outputs": [
        {
          "output_type": "execute_result",
          "data": {
            "text/plain": [
              "dict_keys(['audio', 'label'])"
            ]
          },
          "metadata": {},
          "execution_count": 7
        }
      ],
      "source": [
        "dataset[0].keys()"
      ]
    },
    {
      "cell_type": "code",
      "execution_count": 8,
      "metadata": {
        "id": "WdTxGAbpAUH2",
        "colab": {
          "base_uri": "https://localhost:8080/"
        },
        "outputId": "e560b82a-c01b-4d04-e19d-06cec90cacd6"
      },
      "outputs": [
        {
          "output_type": "stream",
          "name": "stdout",
          "text": [
            "Number of classes in the dataset: 4\n"
          ]
        }
      ],
      "source": [
        "num_classes = len(set(dataset[\"label\"]))\n",
        "print(f\"Number of classes in the dataset: {num_classes}\")"
      ]
    },
    {
      "cell_type": "markdown",
      "metadata": {
        "id": "gVtW2mpyAcBW"
      },
      "source": [
        "### 1.2.x Feature Extraction"
      ]
    },
    {
      "cell_type": "code",
      "execution_count": 9,
      "metadata": {
        "colab": {
          "base_uri": "https://localhost:8080/"
        },
        "id": "guAsdpSUyoOX",
        "outputId": "6c0c17ce-00aa-4246-d462-872ea04f01c2"
      },
      "outputs": [
        {
          "output_type": "stream",
          "name": "stderr",
          "text": [
            "/usr/local/lib/python3.10/dist-packages/huggingface_hub/utils/_auth.py:94: UserWarning: \n",
            "The secret `HF_TOKEN` does not exist in your Colab secrets.\n",
            "To authenticate with the Hugging Face Hub, create a token in your settings tab (https://huggingface.co/settings/tokens), set it as secret in your Google Colab and restart your session.\n",
            "You will be able to reuse this secret in all of your notebooks.\n",
            "Please note that authentication is recommended but still optional to access public models or datasets.\n",
            "  warnings.warn(\n"
          ]
        }
      ],
      "source": [
        "model_dir = 'facebook/wav2vec2-base-960h'\n",
        "feature_extractor = AutoFeatureExtractor.from_pretrained(model_dir)"
      ]
    },
    {
      "cell_type": "code",
      "execution_count": 10,
      "metadata": {
        "colab": {
          "base_uri": "https://localhost:8080/"
        },
        "id": "ja3d46_rvDvL",
        "outputId": "ea7a5edf-4c1d-4eeb-a203-02514934135d"
      },
      "outputs": [
        {
          "output_type": "stream",
          "name": "stdout",
          "text": [
            "Preprocessed dataset with feature extractor.\n"
          ]
        }
      ],
      "source": [
        "# extract features - from Marco's code\n",
        "def preprocess_function(example):\n",
        "    inputs = feature_extractor(example['audio'], sampling_rate=16000, padding=True)\n",
        "    return inputs\n",
        "dataset = dataset.map(preprocess_function, remove_columns=\"audio\", batched=True, batch_size=32)\n",
        "print(\"Preprocessed dataset with feature extractor.\")"
      ]
    },
    {
      "cell_type": "markdown",
      "metadata": {
        "id": "ljR-90TiAtDh"
      },
      "source": [
        "### 1.2.x Split Dataset"
      ]
    },
    {
      "cell_type": "code",
      "execution_count": 11,
      "metadata": {
        "id": "U3BfD0nTufmE",
        "colab": {
          "base_uri": "https://localhost:8080/"
        },
        "outputId": "e59a37b5-8e42-4da2-e8ae-5b9c219f7100"
      },
      "outputs": [
        {
          "output_type": "stream",
          "name": "stdout",
          "text": [
            "Split dataset into training and testing.\n"
          ]
        }
      ],
      "source": [
        "# split dataset into train, val and test - from Marco's code\n",
        "dataset = dataset.train_test_split(test_size=0.1, shuffle=True, stratify_by_column=\"label\", seed=42)\n",
        "print(\"Split dataset into training and testing.\")"
      ]
    },
    {
      "cell_type": "markdown",
      "metadata": {
        "id": "eY6LLRisAz86"
      },
      "source": [
        "### 1.2.x Classes"
      ]
    },
    {
      "cell_type": "code",
      "execution_count": 12,
      "metadata": {
        "id": "ppAflW2gzTjA",
        "colab": {
          "base_uri": "https://localhost:8080/"
        },
        "outputId": "0f82c343-5a73-4d33-83de-3dea2bd52413"
      },
      "outputs": [
        {
          "output_type": "stream",
          "name": "stdout",
          "text": [
            "Computed class weights: {19: 1.5985714285714285, 40: 0.8797169811320755, 47: 1.8048387096774194, 49: 0.5939490445859873}\n",
            "Class weights tensor moved to device: cuda\n"
          ]
        }
      ],
      "source": [
        "# from Marco's code - not sure if needed\n",
        "\n",
        "from sklearn.utils.class_weight import compute_class_weight\n",
        "\n",
        "# Compute class weights and store in a dict\n",
        "class_weights = compute_class_weight('balanced', classes=np.unique(dataset['train']['label']), y=dataset['train']['label'])\n",
        "class_weights = {class_id: weight for class_id, weight in zip(np.unique(dataset['train']['label']), class_weights)}\n",
        "print(f\"Computed class weights: {class_weights}\")\n",
        "# Convert weights to Tensor\n",
        "class_weight_tensor = torch.tensor(list(class_weights.values()), dtype=torch.float32).to(device)\n",
        "print(f\"Class weights tensor moved to device: {device}\")"
      ]
    },
    {
      "cell_type": "markdown",
      "metadata": {
        "id": "7z62Cf5TA9uP"
      },
      "source": [
        "### 1.2.x Evaluation"
      ]
    },
    {
      "cell_type": "code",
      "source": [
        "import evaluate\n",
        "\n",
        "# Use accuracy as performace metric\n",
        "accuracy = evaluate.load(\"accuracy\")"
      ],
      "metadata": {
        "id": "IlzV3LW-RkJE"
      },
      "execution_count": 13,
      "outputs": []
    },
    {
      "cell_type": "markdown",
      "metadata": {
        "id": "UMiyPO_BBPL7"
      },
      "source": [
        "### 1.2.x Dataset to Loader"
      ]
    },
    {
      "cell_type": "code",
      "source": [
        "# from torch.nn.utils.rnn import pad_sequence\n",
        "\n",
        "MAX_LENGTH = 160000  # Use the longest sequence length in your dataset\n",
        "\n",
        "def collate_fn(batch):\n",
        "    inputs = []\n",
        "    for item in batch:\n",
        "        input_values = item['input_values'].clone().detach()\n",
        "\n",
        "        # running the line below didn't work properly, I had to manually pad\n",
        "        # padded_inputs = pad_sequence(inputs, batch_first=True).unsqueeze(1)\n",
        "\n",
        "        if len(input_values) < MAX_LENGTH: # pad\n",
        "            padded = torch.cat((input_values, torch.zeros(MAX_LENGTH - len(input_values))))\n",
        "        else: # truncate\n",
        "            padded = input_values[:MAX_LENGTH]\n",
        "        inputs.append(padded)\n",
        "    labels = torch.tensor([item['label'] for item in batch])\n",
        "    return torch.stack(inputs).unsqueeze(1), labels"
      ],
      "metadata": {
        "id": "vP_9WQXHHna8"
      },
      "execution_count": 14,
      "outputs": []
    },
    {
      "cell_type": "code",
      "execution_count": 15,
      "metadata": {
        "id": "zJakTgTJDGIz"
      },
      "outputs": [],
      "source": [
        "# convert dataset col to tensors\n",
        "dataset['train'].set_format(type='torch', columns=['input_values', 'label'])\n",
        "dataset['test'].set_format(type='torch', columns=['input_values', 'label'])"
      ]
    },
    {
      "cell_type": "markdown",
      "metadata": {
        "id": "VLpS3Q3FBCuW"
      },
      "source": [
        "### 1.2.x Intitiating CNN"
      ]
    },
    {
      "cell_type": "code",
      "execution_count": 16,
      "metadata": {
        "id": "CmWTm254hZjX"
      },
      "outputs": [],
      "source": [
        "import torch\n",
        "import torch.nn as nn\n",
        "\n",
        "class AudioCNN(nn.Module):\n",
        "    def __init__(self, num_classes):\n",
        "        super(AudioCNN, self).__init__()\n",
        "        self.conv1 = nn.Conv1d(1, 32, kernel_size=3, stride=1, padding=1)\n",
        "        self.conv2 = nn.Conv1d(32, 64, kernel_size=3, stride=1, padding=1)\n",
        "        self.pool = nn.MaxPool1d(2, 2)\n",
        "        self.fc1 = nn.Linear(64 * 40000, 256)  # input size should be 160000, which is confirmed wile the model was trained\n",
        "        self.fc2 = nn.Linear(256, num_classes)\n",
        "        self.relu = nn.ReLU()\n",
        "\n",
        "    def forward(self, x):\n",
        "        x = self.pool(self.relu(self.conv1(x)))  # First convolution and pooling\n",
        "        # debug step:\n",
        "        # print(\"Shape after conv1:\", x.shape)  # Print the shape after conv1\n",
        "\n",
        "        x = self.pool(self.relu(self.conv2(x)))  # Second convolution and pooling\n",
        "        # print(\"Shape after conv2:\", x.shape)\n",
        "\n",
        "        x = x.view(x.size(0), -1)  # Flatten the tensor\n",
        "        #print(\"Shape after flattening:\", x.shape)\n",
        "\n",
        "        x = self.relu(self.fc1(x))  # First fully connected layer\n",
        "        # print(\"Shape after fc1:\", x.shape)\n",
        "        # x = self.dropout(x)\n",
        "        # print(\"Shape after dropout:\", x.shape)\n",
        "\n",
        "        x = self.fc2(x)  # Second fully connected layer (output)\n",
        "        # print(\"Shape after fc2:\", x.shape)\n",
        "        return x"
      ]
    },
    {
      "cell_type": "code",
      "execution_count": 17,
      "metadata": {
        "colab": {
          "base_uri": "https://localhost:8080/"
        },
        "id": "pvodsA0S3NJW",
        "outputId": "54419936-0298-49ea-8c46-a06ee239ce4e"
      },
      "outputs": [
        {
          "output_type": "stream",
          "name": "stdout",
          "text": [
            "AudioCNN(\n",
            "  (conv1): Conv1d(1, 32, kernel_size=(3,), stride=(1,), padding=(1,))\n",
            "  (conv2): Conv1d(32, 64, kernel_size=(3,), stride=(1,), padding=(1,))\n",
            "  (pool): MaxPool1d(kernel_size=2, stride=2, padding=0, dilation=1, ceil_mode=False)\n",
            "  (fc1): Linear(in_features=2560000, out_features=256, bias=True)\n",
            "  (fc2): Linear(in_features=256, out_features=4, bias=True)\n",
            "  (relu): ReLU()\n",
            ")\n"
          ]
        }
      ],
      "source": [
        "cnn = AudioCNN(num_classes).to(device)\n",
        "print(cnn)"
      ]
    },
    {
      "cell_type": "code",
      "execution_count": 18,
      "metadata": {
        "id": "SJfLJPyp1Vxa"
      },
      "outputs": [],
      "source": [
        "loss_fct = nn.CrossEntropyLoss(weight=class_weight_tensor)\n",
        "optimizer = torch.optim.Adam(cnn.parameters(), lr=3e-4, weight_decay=0.01)"
      ]
    },
    {
      "cell_type": "markdown",
      "metadata": {
        "id": "rpzrNpTaBXV2"
      },
      "source": [
        "### 1.2.x Training the Model"
      ]
    },
    {
      "source": [
        "from torch.utils.data import DataLoader\n",
        "\n",
        "num_epochs = 1\n",
        "batch_size = 8\n",
        "\n",
        "# load data\n",
        "train_loader = torch.utils.data.DataLoader(dataset['train'], batch_size=batch_size, collate_fn=collate_fn)\n",
        "test_loader = torch.utils.data.DataLoader(dataset['test'], batch_size=batch_size, collate_fn=collate_fn)\n",
        "\n",
        "# init metric containers\n",
        "train_iter, train_losses, train_accs = [], [], []\n",
        "test_iter, test_losses, test_accs = [], [], []\n",
        "\n",
        "# train and evaluate\n",
        "for epoch in range(num_epochs):\n",
        "  cnn.train()\n",
        "  step = 0\n",
        "  for inputs, labels in train_loader:\n",
        "    step += 1\n",
        "\n",
        "    inputs, labels = inputs.to(device), labels.to(device)\n",
        "    # print(f\"Shape of inputs before passing to model: {inputs.shape}\")\n",
        "\n",
        "    # reassign labels from 0-(n-1)\n",
        "    labels = torch.clamp(labels, 0, num_classes - 1).long()\n",
        "    # print(f\"Unique values in labels: {torch.unique(labels)}\")\n",
        "\n",
        "    optimizer.zero_grad()\n",
        "    outputs = cnn(inputs)\n",
        "\n",
        "    loss = loss_fct(outputs, labels)\n",
        "    loss.backward()\n",
        "    optimizer.step()\n",
        "\n",
        "    if step % 10 == 0:\n",
        "      train_iter.append(step)\n",
        "      train_losses.append(loss.item())\n",
        "      train_acc = accuracy.compute(predictions=outputs.argmax(axis=1), references=labels)['accuracy']\n",
        "      train_accs.append(train_acc)\n",
        "      print(f\"Epoch [{epoch+1}/{num_epochs}], Step [{step}/{len(train_loader)}], Train loss: {loss.item():.4f}, Train accuracy: {train_acc:.4f}\")\n",
        "\n",
        "      # calculate, append and display evaluation reports\n",
        "      cnn.eval()\n",
        "      test_loss, test_acc = 0, 0\n",
        "      with torch.no_grad():\n",
        "        for inputs, labels in test_loader:\n",
        "          inputs, labels = inputs.to(device), labels.to(device)\n",
        "          labels = torch.clamp(labels, 0, num_classes - 1).long()\n",
        "          outputs = cnn(inputs)\n",
        "          test_loss += loss_fct(outputs, labels).item()\n",
        "          test_acc += accuracy.compute(predictions=outputs.argmax(axis=1), references=labels)['accuracy']\n",
        "\n",
        "        # append to reports\n",
        "        test_iter.append(step + epoch*len(train_loader))\n",
        "        test_losses.append(test_loss / len(test_loader))\n",
        "        test_accs.append(test_acc / len(test_loader))\n",
        "\n",
        "        # display reports\n",
        "        print(f\"Test Loss: {test_loss / len(test_loader):.4f}, Test Accuracy: {test_acc / len(test_loader):.4f}\")\n",
        "\n",
        "print('')\n",
        "print(f'Final training loss: {str(train_losses[-1])} accuracy: {str(train_accs[-1])}')\n",
        "print(f'Final validation loss: {str(test_losses[-1])} accuracy: {str(test_accs[-1])}')"
      ],
      "cell_type": "code",
      "metadata": {
        "colab": {
          "base_uri": "https://localhost:8080/"
        },
        "id": "DfxxHXxt-tJ1",
        "outputId": "7d7df452-4f23-44f3-d6f0-478431a6137c"
      },
      "execution_count": 19,
      "outputs": [
        {
          "output_type": "stream",
          "name": "stdout",
          "text": [
            "Epoch [1/1], Step [10/140], Train loss: 0.0000, Train accuracy: 1.0000\n",
            "Test Loss: 0.0000, Test Accuracy: 1.0000\n",
            "Epoch [1/1], Step [20/140], Train loss: 0.0000, Train accuracy: 1.0000\n",
            "Test Loss: 0.0000, Test Accuracy: 1.0000\n",
            "Epoch [1/1], Step [30/140], Train loss: 0.0000, Train accuracy: 1.0000\n",
            "Test Loss: 0.0000, Test Accuracy: 1.0000\n",
            "Epoch [1/1], Step [40/140], Train loss: 0.0000, Train accuracy: 1.0000\n",
            "Test Loss: 0.0000, Test Accuracy: 1.0000\n",
            "Epoch [1/1], Step [50/140], Train loss: 0.0000, Train accuracy: 1.0000\n",
            "Test Loss: 0.0000, Test Accuracy: 1.0000\n",
            "Epoch [1/1], Step [60/140], Train loss: 0.0000, Train accuracy: 1.0000\n",
            "Test Loss: 0.0000, Test Accuracy: 1.0000\n",
            "Epoch [1/1], Step [70/140], Train loss: 0.0000, Train accuracy: 1.0000\n",
            "Test Loss: 0.0000, Test Accuracy: 1.0000\n",
            "Epoch [1/1], Step [80/140], Train loss: 0.0000, Train accuracy: 1.0000\n",
            "Test Loss: 0.0000, Test Accuracy: 1.0000\n",
            "Epoch [1/1], Step [90/140], Train loss: 0.0000, Train accuracy: 1.0000\n",
            "Test Loss: 0.0000, Test Accuracy: 1.0000\n",
            "Epoch [1/1], Step [100/140], Train loss: 0.0000, Train accuracy: 1.0000\n",
            "Test Loss: 0.0000, Test Accuracy: 1.0000\n",
            "Epoch [1/1], Step [110/140], Train loss: 0.0000, Train accuracy: 1.0000\n",
            "Test Loss: 0.0000, Test Accuracy: 1.0000\n",
            "Epoch [1/1], Step [120/140], Train loss: 0.0000, Train accuracy: 1.0000\n",
            "Test Loss: 0.0000, Test Accuracy: 1.0000\n",
            "Epoch [1/1], Step [130/140], Train loss: 0.0000, Train accuracy: 1.0000\n",
            "Test Loss: 0.0000, Test Accuracy: 1.0000\n",
            "Epoch [1/1], Step [140/140], Train loss: 0.0000, Train accuracy: 1.0000\n",
            "Test Loss: 0.0000, Test Accuracy: 1.0000\n",
            "\n",
            "Final training loss: 0.0 accuracy: 1.0\n",
            "Final validation loss: 0.0 accuracy: 1.0\n"
          ]
        }
      ]
    },
    {
      "cell_type": "code",
      "source": [
        "# plots of final loss and accuracy of training and validation data\n",
        "plt.figure(figsize=(12, 6))\n",
        "\n",
        "plt.subplot(1, 2, 1)\n",
        "plt.plot(train_iter, train_losses, label='Train Loss')\n",
        "plt.plot(test_iter, test_losses, label='Validation Loss')\n",
        "plt.xlabel('Iteration')\n",
        "plt.ylabel('Loss')\n",
        "plt.legend()\n",
        "\n",
        "plt.subplot(1, 2, 2)\n",
        "plt.plot(train_iter, train_accs, label='Train Accuracy')\n",
        "plt.plot(test_iter, test_accs, label='Validation Accuracy')\n",
        "plt.xlabel('Iteration')\n",
        "plt.ylabel('Accuracy')\n",
        "plt.legend()\n",
        "\n",
        "plt.suptitle('Training and Validation Loss and Accuracy')\n",
        "\n",
        "plt.show()"
      ],
      "metadata": {
        "colab": {
          "base_uri": "https://localhost:8080/",
          "height": 602
        },
        "id": "bLgWsRcrQEQC",
        "outputId": "567396d5-ceca-42c1-adf7-fea553f715b8"
      },
      "execution_count": 20,
      "outputs": [
        {
          "output_type": "display_data",
          "data": {
            "text/plain": [
              "<Figure size 1200x600 with 2 Axes>"
            ],
            "image/png": "[encoded data removed]"
          },
          "metadata": {}
        }
      ]
    }
  ],
  "metadata": {
    "accelerator": "GPU",
    "colab": {
      "gpuType": "T4",
      "provenance": [],
      "include_colab_link": true
    },
    "kernelspec": {
      "display_name": "Python 3",
      "name": "python3"
    },
    "language_info": {
      "name": "python"
    }
  },
  "nbformat": 4,
  "nbformat_minor": 0
}